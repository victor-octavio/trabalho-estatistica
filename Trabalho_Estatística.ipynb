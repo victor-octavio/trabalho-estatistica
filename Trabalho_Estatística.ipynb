{
  "cells": [
    {
      "cell_type": "markdown",
      "metadata": {
        "id": "view-in-github",
        "colab_type": "text"
      },
      "source": [
        "<a href=\"https://colab.research.google.com/github/victor-octavio/trabalho-estatistica/blob/main/Trabalho_Estat%C3%ADstica.ipynb\" target=\"_parent\"><img src=\"https://colab.research.google.com/assets/colab-badge.svg\" alt=\"Open In Colab\"/></a>"
      ]
    },
    {
      "cell_type": "code",
      "execution_count": 38,
      "metadata": {
        "colab": {
          "base_uri": "https://localhost:8080/",
          "height": 1000
        },
        "id": "_PZ2hYNfNzEQ",
        "outputId": "d2b4f8a8-08a1-4b1d-e83f-5d852ef77909"
      },
      "outputs": [
        {
          "output_type": "stream",
          "name": "stderr",
          "text": [
            "Installing package into ‘/usr/local/lib/R/site-library’\n",
            "(as ‘lib’ is unspecified)\n",
            "\n",
            "Installing package into ‘/usr/local/lib/R/site-library’\n",
            "(as ‘lib’ is unspecified)\n",
            "\n"
          ]
        },
        {
          "output_type": "display_data",
          "data": {
            "text/html": [
              "<table class=\"dataframe\">\n",
              "<caption>A data.frame: 121 × 11</caption>\n",
              "<thead>\n",
              "\t<tr><th scope=col>id</th><th scope=col>grupo</th><th scope=col>semanasevolucao</th><th scope=col>diassintomas</th><th scope=col>tipodeparto</th><th scope=col>corpele</th><th scope=col>sexobebe</th><th scope=col>idade</th><th scope=col>pesobebeint</th><th scope=col>pesobebealta</th><th scope=col>fumo</th></tr>\n",
              "\t<tr><th scope=col>&lt;int&gt;</th><th scope=col>&lt;int&gt;</th><th scope=col>&lt;dbl&gt;</th><th scope=col>&lt;int&gt;</th><th scope=col>&lt;int&gt;</th><th scope=col>&lt;int&gt;</th><th scope=col>&lt;int&gt;</th><th scope=col>&lt;int&gt;</th><th scope=col>&lt;int&gt;</th><th scope=col>&lt;int&gt;</th><th scope=col>&lt;int&gt;</th></tr>\n",
              "</thead>\n",
              "<tbody>\n",
              "\t<tr><td> 1</td><td>2</td><td>32.85</td><td> 6</td><td>2</td><td>1</td><td>2</td><td>35</td><td>1500</td><td>1900</td><td>1</td></tr>\n",
              "\t<tr><td> 2</td><td>1</td><td>36.00</td><td> 4</td><td>1</td><td>1</td><td>2</td><td>43</td><td>2010</td><td>2500</td><td>2</td></tr>\n",
              "\t<tr><td> 3</td><td>1</td><td>29.00</td><td> 1</td><td>1</td><td>1</td><td>2</td><td>15</td><td>1030</td><td>1050</td><td>1</td></tr>\n",
              "\t<tr><td> 4</td><td>1</td><td>27.00</td><td> 1</td><td>2</td><td>1</td><td>1</td><td>14</td><td> 980</td><td>1500</td><td>1</td></tr>\n",
              "\t<tr><td> 5</td><td>1</td><td>25.00</td><td> 1</td><td>1</td><td>1</td><td>1</td><td>34</td><td> 520</td><td>1000</td><td>1</td></tr>\n",
              "\t<tr><td> 6</td><td>2</td><td>32.85</td><td> 1</td><td>2</td><td>1</td><td>1</td><td>23</td><td>1980</td><td>1980</td><td>2</td></tr>\n",
              "\t<tr><td> 7</td><td>2</td><td>31.85</td><td>67</td><td>1</td><td>1</td><td>2</td><td>27</td><td>2000</td><td>2300</td><td>1</td></tr>\n",
              "\t<tr><td> 8</td><td>2</td><td>30.28</td><td> 7</td><td>2</td><td>1</td><td>2</td><td>25</td><td> 865</td><td>2000</td><td>2</td></tr>\n",
              "\t<tr><td> 9</td><td>2</td><td>32.43</td><td> 4</td><td>1</td><td>1</td><td>2</td><td>39</td><td>2240</td><td>2200</td><td>1</td></tr>\n",
              "\t<tr><td>10</td><td>2</td><td>32.71</td><td> 1</td><td>1</td><td>1</td><td>1</td><td>21</td><td>2340</td><td>2500</td><td>2</td></tr>\n",
              "\t<tr><td>11</td><td>2</td><td>32.85</td><td> 1</td><td>2</td><td>1</td><td>1</td><td>20</td><td>2045</td><td>2045</td><td>1</td></tr>\n",
              "\t<tr><td>12</td><td>2</td><td>30.71</td><td> 1</td><td>2</td><td>1</td><td>1</td><td>16</td><td>1455</td><td>1650</td><td>2</td></tr>\n",
              "\t<tr><td>13</td><td>2</td><td>27.57</td><td> 1</td><td>2</td><td>1</td><td>1</td><td>14</td><td> 650</td><td>1900</td><td>1</td></tr>\n",
              "\t<tr><td>14</td><td>2</td><td>32.71</td><td> 1</td><td>2</td><td>1</td><td>2</td><td>34</td><td>1520</td><td>1650</td><td>2</td></tr>\n",
              "\t<tr><td>15</td><td>2</td><td>27.14</td><td> 1</td><td>2</td><td>1</td><td>1</td><td>27</td><td>1055</td><td>2000</td><td>2</td></tr>\n",
              "\t<tr><td>16</td><td>2</td><td>27.57</td><td> 1</td><td>2</td><td>1</td><td>1</td><td>14</td><td> 650</td><td>1900</td><td>1</td></tr>\n",
              "\t<tr><td>17</td><td>2</td><td>31.28</td><td>31</td><td>2</td><td>2</td><td>1</td><td>23</td><td>1640</td><td>1650</td><td>3</td></tr>\n",
              "\t<tr><td>18</td><td>1</td><td>27.00</td><td> 1</td><td>2</td><td>1</td><td>2</td><td>33</td><td> 876</td><td>1000</td><td>1</td></tr>\n",
              "\t<tr><td>19</td><td>2</td><td>30.28</td><td> 7</td><td>2</td><td>1</td><td>2</td><td>25</td><td> 865</td><td>2000</td><td>2</td></tr>\n",
              "\t<tr><td>20</td><td>2</td><td>31.28</td><td> 1</td><td>2</td><td>1</td><td>1</td><td>18</td><td>1100</td><td>1100</td><td>1</td></tr>\n",
              "\t<tr><td>21</td><td>2</td><td>34.00</td><td>12</td><td>1</td><td>1</td><td>1</td><td>34</td><td>1750</td><td>1800</td><td>3</td></tr>\n",
              "\t<tr><td>22</td><td>1</td><td>23.00</td><td> 1</td><td>1</td><td>2</td><td>2</td><td>24</td><td> 410</td><td>1200</td><td>2</td></tr>\n",
              "\t<tr><td>23</td><td>1</td><td>23.00</td><td> 1</td><td>1</td><td>2</td><td>2</td><td>24</td><td> 410</td><td>1200</td><td>2</td></tr>\n",
              "\t<tr><td>24</td><td>1</td><td>32.00</td><td> 3</td><td>1</td><td>1</td><td>1</td><td>35</td><td>1950</td><td>2600</td><td>1</td></tr>\n",
              "\t<tr><td>25</td><td>2</td><td>30.71</td><td> 1</td><td>2</td><td>1</td><td>1</td><td>16</td><td>1455</td><td>1650</td><td>2</td></tr>\n",
              "\t<tr><td>26</td><td>2</td><td>30.28</td><td> 1</td><td>2</td><td>2</td><td>1</td><td>41</td><td> 950</td><td>1200</td><td>2</td></tr>\n",
              "\t<tr><td>27</td><td>2</td><td>30.71</td><td> 1</td><td>2</td><td>1</td><td>2</td><td>25</td><td>1480</td><td>1480</td><td>2</td></tr>\n",
              "\t<tr><td>28</td><td>1</td><td>34.00</td><td> 1</td><td>2</td><td>2</td><td>2</td><td>26</td><td>1700</td><td>1650</td><td>3</td></tr>\n",
              "\t<tr><td>29</td><td>2</td><td>32.71</td><td> 1</td><td>2</td><td>1</td><td>2</td><td>34</td><td>1520</td><td>1650</td><td>2</td></tr>\n",
              "\t<tr><td>30</td><td>2</td><td>27.57</td><td> 1</td><td>2</td><td>1</td><td>1</td><td>14</td><td> 650</td><td>1900</td><td>1</td></tr>\n",
              "\t<tr><td>⋮</td><td>⋮</td><td>⋮</td><td>⋮</td><td>⋮</td><td>⋮</td><td>⋮</td><td>⋮</td><td>⋮</td><td>⋮</td><td>⋮</td></tr>\n",
              "\t<tr><td> 92</td><td>2</td><td>32.43</td><td> 1</td><td>2</td><td>2</td><td>2</td><td>32</td><td>1850</td><td>1900</td><td>3</td></tr>\n",
              "\t<tr><td> 93</td><td>2</td><td>32.43</td><td> 1</td><td>2</td><td>2</td><td>2</td><td>32</td><td>1850</td><td>1900</td><td>3</td></tr>\n",
              "\t<tr><td> 94</td><td>2</td><td>32.43</td><td> 1</td><td>2</td><td>2</td><td>2</td><td>32</td><td>1850</td><td>1900</td><td>3</td></tr>\n",
              "\t<tr><td> 95</td><td>2</td><td>31.85</td><td>21</td><td>2</td><td>2</td><td>1</td><td>24</td><td>1170</td><td>1580</td><td>2</td></tr>\n",
              "\t<tr><td> 96</td><td>1</td><td>27.00</td><td> 1</td><td>2</td><td>1</td><td>1</td><td>14</td><td> 980</td><td>1500</td><td>1</td></tr>\n",
              "\t<tr><td> 97</td><td>2</td><td>31.71</td><td> 5</td><td>2</td><td>2</td><td>2</td><td>39</td><td>1755</td><td>1850</td><td>3</td></tr>\n",
              "\t<tr><td> 98</td><td>2</td><td>30.71</td><td> 1</td><td>2</td><td>1</td><td>1</td><td>16</td><td>1455</td><td>1650</td><td>2</td></tr>\n",
              "\t<tr><td> 99</td><td>1</td><td>27.00</td><td> 1</td><td>2</td><td>1</td><td>1</td><td>14</td><td> 980</td><td>1500</td><td>1</td></tr>\n",
              "\t<tr><td>100</td><td>2</td><td>28.85</td><td> 1</td><td>2</td><td>2</td><td>2</td><td>22</td><td> 890</td><td>2000</td><td>1</td></tr>\n",
              "\t<tr><td>101</td><td>1</td><td>35.00</td><td>44</td><td>2</td><td>1</td><td>2</td><td>37</td><td>1940</td><td>1935</td><td>2</td></tr>\n",
              "\t<tr><td>102</td><td>1</td><td>32.00</td><td> 3</td><td>1</td><td>1</td><td>1</td><td>35</td><td>1950</td><td>2600</td><td>1</td></tr>\n",
              "\t<tr><td>103</td><td>1</td><td>31.00</td><td>72</td><td>2</td><td>2</td><td>2</td><td>33</td><td>1370</td><td>1372</td><td>2</td></tr>\n",
              "\t<tr><td>104</td><td>1</td><td>35.00</td><td>44</td><td>2</td><td>1</td><td>2</td><td>37</td><td>1940</td><td>1935</td><td>2</td></tr>\n",
              "\t<tr><td>105</td><td>1</td><td>32.00</td><td> 1</td><td>1</td><td>1</td><td>1</td><td>23</td><td>1200</td><td>1915</td><td>2</td></tr>\n",
              "\t<tr><td>106</td><td>1</td><td>34.00</td><td> 1</td><td>1</td><td>1</td><td>2</td><td>23</td><td>1750</td><td>1850</td><td>3</td></tr>\n",
              "\t<tr><td>107</td><td>2</td><td>30.71</td><td> 1</td><td>2</td><td>1</td><td>2</td><td>25</td><td>1480</td><td>1480</td><td>2</td></tr>\n",
              "\t<tr><td>108</td><td>1</td><td>32.00</td><td> 1</td><td>1</td><td>1</td><td>1</td><td>23</td><td>1200</td><td>1915</td><td>2</td></tr>\n",
              "\t<tr><td>109</td><td>2</td><td>28.14</td><td> 1</td><td>2</td><td>1</td><td>1</td><td>18</td><td> 900</td><td> 900</td><td>1</td></tr>\n",
              "\t<tr><td>110</td><td>2</td><td>30.28</td><td> 1</td><td>2</td><td>2</td><td>1</td><td>41</td><td> 950</td><td>1200</td><td>2</td></tr>\n",
              "\t<tr><td>111</td><td>1</td><td>28.00</td><td>28</td><td>1</td><td>2</td><td>1</td><td>17</td><td>1000</td><td>1300</td><td>1</td></tr>\n",
              "\t<tr><td>112</td><td>2</td><td>32.43</td><td> 1</td><td>2</td><td>2</td><td>2</td><td>32</td><td>1850</td><td>1900</td><td>3</td></tr>\n",
              "\t<tr><td>113</td><td>2</td><td>32.43</td><td> 1</td><td>2</td><td>2</td><td>2</td><td>32</td><td>1850</td><td>1900</td><td>3</td></tr>\n",
              "\t<tr><td>114</td><td>2</td><td>32.43</td><td> 1</td><td>2</td><td>2</td><td>2</td><td>32</td><td>1850</td><td>1900</td><td>3</td></tr>\n",
              "\t<tr><td>115</td><td>2</td><td>31.85</td><td>21</td><td>2</td><td>2</td><td>1</td><td>24</td><td>1170</td><td>1580</td><td>2</td></tr>\n",
              "\t<tr><td>116</td><td>1</td><td>27.00</td><td> 1</td><td>2</td><td>1</td><td>1</td><td>14</td><td> 980</td><td>1500</td><td>1</td></tr>\n",
              "\t<tr><td>117</td><td>2</td><td>31.71</td><td> 5</td><td>2</td><td>2</td><td>2</td><td>39</td><td>1755</td><td>1850</td><td>3</td></tr>\n",
              "\t<tr><td>118</td><td>2</td><td>30.71</td><td> 1</td><td>2</td><td>1</td><td>1</td><td>16</td><td>1455</td><td>1650</td><td>2</td></tr>\n",
              "\t<tr><td>119</td><td>1</td><td>27.00</td><td> 1</td><td>2</td><td>1</td><td>1</td><td>14</td><td> 980</td><td>1500</td><td>1</td></tr>\n",
              "\t<tr><td>120</td><td>2</td><td>28.85</td><td> 1</td><td>2</td><td>2</td><td>2</td><td>22</td><td> 890</td><td>2000</td><td>1</td></tr>\n",
              "\t<tr><td>121</td><td>1</td><td>35.00</td><td>44</td><td>2</td><td>1</td><td>2</td><td>37</td><td>1940</td><td>1935</td><td>2</td></tr>\n",
              "</tbody>\n",
              "</table>\n"
            ],
            "text/markdown": "\nA data.frame: 121 × 11\n\n| id &lt;int&gt; | grupo &lt;int&gt; | semanasevolucao &lt;dbl&gt; | diassintomas &lt;int&gt; | tipodeparto &lt;int&gt; | corpele &lt;int&gt; | sexobebe &lt;int&gt; | idade &lt;int&gt; | pesobebeint &lt;int&gt; | pesobebealta &lt;int&gt; | fumo &lt;int&gt; |\n|---|---|---|---|---|---|---|---|---|---|---|\n|  1 | 2 | 32.85 |  6 | 2 | 1 | 2 | 35 | 1500 | 1900 | 1 |\n|  2 | 1 | 36.00 |  4 | 1 | 1 | 2 | 43 | 2010 | 2500 | 2 |\n|  3 | 1 | 29.00 |  1 | 1 | 1 | 2 | 15 | 1030 | 1050 | 1 |\n|  4 | 1 | 27.00 |  1 | 2 | 1 | 1 | 14 |  980 | 1500 | 1 |\n|  5 | 1 | 25.00 |  1 | 1 | 1 | 1 | 34 |  520 | 1000 | 1 |\n|  6 | 2 | 32.85 |  1 | 2 | 1 | 1 | 23 | 1980 | 1980 | 2 |\n|  7 | 2 | 31.85 | 67 | 1 | 1 | 2 | 27 | 2000 | 2300 | 1 |\n|  8 | 2 | 30.28 |  7 | 2 | 1 | 2 | 25 |  865 | 2000 | 2 |\n|  9 | 2 | 32.43 |  4 | 1 | 1 | 2 | 39 | 2240 | 2200 | 1 |\n| 10 | 2 | 32.71 |  1 | 1 | 1 | 1 | 21 | 2340 | 2500 | 2 |\n| 11 | 2 | 32.85 |  1 | 2 | 1 | 1 | 20 | 2045 | 2045 | 1 |\n| 12 | 2 | 30.71 |  1 | 2 | 1 | 1 | 16 | 1455 | 1650 | 2 |\n| 13 | 2 | 27.57 |  1 | 2 | 1 | 1 | 14 |  650 | 1900 | 1 |\n| 14 | 2 | 32.71 |  1 | 2 | 1 | 2 | 34 | 1520 | 1650 | 2 |\n| 15 | 2 | 27.14 |  1 | 2 | 1 | 1 | 27 | 1055 | 2000 | 2 |\n| 16 | 2 | 27.57 |  1 | 2 | 1 | 1 | 14 |  650 | 1900 | 1 |\n| 17 | 2 | 31.28 | 31 | 2 | 2 | 1 | 23 | 1640 | 1650 | 3 |\n| 18 | 1 | 27.00 |  1 | 2 | 1 | 2 | 33 |  876 | 1000 | 1 |\n| 19 | 2 | 30.28 |  7 | 2 | 1 | 2 | 25 |  865 | 2000 | 2 |\n| 20 | 2 | 31.28 |  1 | 2 | 1 | 1 | 18 | 1100 | 1100 | 1 |\n| 21 | 2 | 34.00 | 12 | 1 | 1 | 1 | 34 | 1750 | 1800 | 3 |\n| 22 | 1 | 23.00 |  1 | 1 | 2 | 2 | 24 |  410 | 1200 | 2 |\n| 23 | 1 | 23.00 |  1 | 1 | 2 | 2 | 24 |  410 | 1200 | 2 |\n| 24 | 1 | 32.00 |  3 | 1 | 1 | 1 | 35 | 1950 | 2600 | 1 |\n| 25 | 2 | 30.71 |  1 | 2 | 1 | 1 | 16 | 1455 | 1650 | 2 |\n| 26 | 2 | 30.28 |  1 | 2 | 2 | 1 | 41 |  950 | 1200 | 2 |\n| 27 | 2 | 30.71 |  1 | 2 | 1 | 2 | 25 | 1480 | 1480 | 2 |\n| 28 | 1 | 34.00 |  1 | 2 | 2 | 2 | 26 | 1700 | 1650 | 3 |\n| 29 | 2 | 32.71 |  1 | 2 | 1 | 2 | 34 | 1520 | 1650 | 2 |\n| 30 | 2 | 27.57 |  1 | 2 | 1 | 1 | 14 |  650 | 1900 | 1 |\n| ⋮ | ⋮ | ⋮ | ⋮ | ⋮ | ⋮ | ⋮ | ⋮ | ⋮ | ⋮ | ⋮ |\n|  92 | 2 | 32.43 |  1 | 2 | 2 | 2 | 32 | 1850 | 1900 | 3 |\n|  93 | 2 | 32.43 |  1 | 2 | 2 | 2 | 32 | 1850 | 1900 | 3 |\n|  94 | 2 | 32.43 |  1 | 2 | 2 | 2 | 32 | 1850 | 1900 | 3 |\n|  95 | 2 | 31.85 | 21 | 2 | 2 | 1 | 24 | 1170 | 1580 | 2 |\n|  96 | 1 | 27.00 |  1 | 2 | 1 | 1 | 14 |  980 | 1500 | 1 |\n|  97 | 2 | 31.71 |  5 | 2 | 2 | 2 | 39 | 1755 | 1850 | 3 |\n|  98 | 2 | 30.71 |  1 | 2 | 1 | 1 | 16 | 1455 | 1650 | 2 |\n|  99 | 1 | 27.00 |  1 | 2 | 1 | 1 | 14 |  980 | 1500 | 1 |\n| 100 | 2 | 28.85 |  1 | 2 | 2 | 2 | 22 |  890 | 2000 | 1 |\n| 101 | 1 | 35.00 | 44 | 2 | 1 | 2 | 37 | 1940 | 1935 | 2 |\n| 102 | 1 | 32.00 |  3 | 1 | 1 | 1 | 35 | 1950 | 2600 | 1 |\n| 103 | 1 | 31.00 | 72 | 2 | 2 | 2 | 33 | 1370 | 1372 | 2 |\n| 104 | 1 | 35.00 | 44 | 2 | 1 | 2 | 37 | 1940 | 1935 | 2 |\n| 105 | 1 | 32.00 |  1 | 1 | 1 | 1 | 23 | 1200 | 1915 | 2 |\n| 106 | 1 | 34.00 |  1 | 1 | 1 | 2 | 23 | 1750 | 1850 | 3 |\n| 107 | 2 | 30.71 |  1 | 2 | 1 | 2 | 25 | 1480 | 1480 | 2 |\n| 108 | 1 | 32.00 |  1 | 1 | 1 | 1 | 23 | 1200 | 1915 | 2 |\n| 109 | 2 | 28.14 |  1 | 2 | 1 | 1 | 18 |  900 |  900 | 1 |\n| 110 | 2 | 30.28 |  1 | 2 | 2 | 1 | 41 |  950 | 1200 | 2 |\n| 111 | 1 | 28.00 | 28 | 1 | 2 | 1 | 17 | 1000 | 1300 | 1 |\n| 112 | 2 | 32.43 |  1 | 2 | 2 | 2 | 32 | 1850 | 1900 | 3 |\n| 113 | 2 | 32.43 |  1 | 2 | 2 | 2 | 32 | 1850 | 1900 | 3 |\n| 114 | 2 | 32.43 |  1 | 2 | 2 | 2 | 32 | 1850 | 1900 | 3 |\n| 115 | 2 | 31.85 | 21 | 2 | 2 | 1 | 24 | 1170 | 1580 | 2 |\n| 116 | 1 | 27.00 |  1 | 2 | 1 | 1 | 14 |  980 | 1500 | 1 |\n| 117 | 2 | 31.71 |  5 | 2 | 2 | 2 | 39 | 1755 | 1850 | 3 |\n| 118 | 2 | 30.71 |  1 | 2 | 1 | 1 | 16 | 1455 | 1650 | 2 |\n| 119 | 1 | 27.00 |  1 | 2 | 1 | 1 | 14 |  980 | 1500 | 1 |\n| 120 | 2 | 28.85 |  1 | 2 | 2 | 2 | 22 |  890 | 2000 | 1 |\n| 121 | 1 | 35.00 | 44 | 2 | 1 | 2 | 37 | 1940 | 1935 | 2 |\n\n",
            "text/latex": "A data.frame: 121 × 11\n\\begin{tabular}{lllllllllll}\n id & grupo & semanasevolucao & diassintomas & tipodeparto & corpele & sexobebe & idade & pesobebeint & pesobebealta & fumo\\\\\n <int> & <int> & <dbl> & <int> & <int> & <int> & <int> & <int> & <int> & <int> & <int>\\\\\n\\hline\n\t  1 & 2 & 32.85 &  6 & 2 & 1 & 2 & 35 & 1500 & 1900 & 1\\\\\n\t  2 & 1 & 36.00 &  4 & 1 & 1 & 2 & 43 & 2010 & 2500 & 2\\\\\n\t  3 & 1 & 29.00 &  1 & 1 & 1 & 2 & 15 & 1030 & 1050 & 1\\\\\n\t  4 & 1 & 27.00 &  1 & 2 & 1 & 1 & 14 &  980 & 1500 & 1\\\\\n\t  5 & 1 & 25.00 &  1 & 1 & 1 & 1 & 34 &  520 & 1000 & 1\\\\\n\t  6 & 2 & 32.85 &  1 & 2 & 1 & 1 & 23 & 1980 & 1980 & 2\\\\\n\t  7 & 2 & 31.85 & 67 & 1 & 1 & 2 & 27 & 2000 & 2300 & 1\\\\\n\t  8 & 2 & 30.28 &  7 & 2 & 1 & 2 & 25 &  865 & 2000 & 2\\\\\n\t  9 & 2 & 32.43 &  4 & 1 & 1 & 2 & 39 & 2240 & 2200 & 1\\\\\n\t 10 & 2 & 32.71 &  1 & 1 & 1 & 1 & 21 & 2340 & 2500 & 2\\\\\n\t 11 & 2 & 32.85 &  1 & 2 & 1 & 1 & 20 & 2045 & 2045 & 1\\\\\n\t 12 & 2 & 30.71 &  1 & 2 & 1 & 1 & 16 & 1455 & 1650 & 2\\\\\n\t 13 & 2 & 27.57 &  1 & 2 & 1 & 1 & 14 &  650 & 1900 & 1\\\\\n\t 14 & 2 & 32.71 &  1 & 2 & 1 & 2 & 34 & 1520 & 1650 & 2\\\\\n\t 15 & 2 & 27.14 &  1 & 2 & 1 & 1 & 27 & 1055 & 2000 & 2\\\\\n\t 16 & 2 & 27.57 &  1 & 2 & 1 & 1 & 14 &  650 & 1900 & 1\\\\\n\t 17 & 2 & 31.28 & 31 & 2 & 2 & 1 & 23 & 1640 & 1650 & 3\\\\\n\t 18 & 1 & 27.00 &  1 & 2 & 1 & 2 & 33 &  876 & 1000 & 1\\\\\n\t 19 & 2 & 30.28 &  7 & 2 & 1 & 2 & 25 &  865 & 2000 & 2\\\\\n\t 20 & 2 & 31.28 &  1 & 2 & 1 & 1 & 18 & 1100 & 1100 & 1\\\\\n\t 21 & 2 & 34.00 & 12 & 1 & 1 & 1 & 34 & 1750 & 1800 & 3\\\\\n\t 22 & 1 & 23.00 &  1 & 1 & 2 & 2 & 24 &  410 & 1200 & 2\\\\\n\t 23 & 1 & 23.00 &  1 & 1 & 2 & 2 & 24 &  410 & 1200 & 2\\\\\n\t 24 & 1 & 32.00 &  3 & 1 & 1 & 1 & 35 & 1950 & 2600 & 1\\\\\n\t 25 & 2 & 30.71 &  1 & 2 & 1 & 1 & 16 & 1455 & 1650 & 2\\\\\n\t 26 & 2 & 30.28 &  1 & 2 & 2 & 1 & 41 &  950 & 1200 & 2\\\\\n\t 27 & 2 & 30.71 &  1 & 2 & 1 & 2 & 25 & 1480 & 1480 & 2\\\\\n\t 28 & 1 & 34.00 &  1 & 2 & 2 & 2 & 26 & 1700 & 1650 & 3\\\\\n\t 29 & 2 & 32.71 &  1 & 2 & 1 & 2 & 34 & 1520 & 1650 & 2\\\\\n\t 30 & 2 & 27.57 &  1 & 2 & 1 & 1 & 14 &  650 & 1900 & 1\\\\\n\t ⋮ & ⋮ & ⋮ & ⋮ & ⋮ & ⋮ & ⋮ & ⋮ & ⋮ & ⋮ & ⋮\\\\\n\t  92 & 2 & 32.43 &  1 & 2 & 2 & 2 & 32 & 1850 & 1900 & 3\\\\\n\t  93 & 2 & 32.43 &  1 & 2 & 2 & 2 & 32 & 1850 & 1900 & 3\\\\\n\t  94 & 2 & 32.43 &  1 & 2 & 2 & 2 & 32 & 1850 & 1900 & 3\\\\\n\t  95 & 2 & 31.85 & 21 & 2 & 2 & 1 & 24 & 1170 & 1580 & 2\\\\\n\t  96 & 1 & 27.00 &  1 & 2 & 1 & 1 & 14 &  980 & 1500 & 1\\\\\n\t  97 & 2 & 31.71 &  5 & 2 & 2 & 2 & 39 & 1755 & 1850 & 3\\\\\n\t  98 & 2 & 30.71 &  1 & 2 & 1 & 1 & 16 & 1455 & 1650 & 2\\\\\n\t  99 & 1 & 27.00 &  1 & 2 & 1 & 1 & 14 &  980 & 1500 & 1\\\\\n\t 100 & 2 & 28.85 &  1 & 2 & 2 & 2 & 22 &  890 & 2000 & 1\\\\\n\t 101 & 1 & 35.00 & 44 & 2 & 1 & 2 & 37 & 1940 & 1935 & 2\\\\\n\t 102 & 1 & 32.00 &  3 & 1 & 1 & 1 & 35 & 1950 & 2600 & 1\\\\\n\t 103 & 1 & 31.00 & 72 & 2 & 2 & 2 & 33 & 1370 & 1372 & 2\\\\\n\t 104 & 1 & 35.00 & 44 & 2 & 1 & 2 & 37 & 1940 & 1935 & 2\\\\\n\t 105 & 1 & 32.00 &  1 & 1 & 1 & 1 & 23 & 1200 & 1915 & 2\\\\\n\t 106 & 1 & 34.00 &  1 & 1 & 1 & 2 & 23 & 1750 & 1850 & 3\\\\\n\t 107 & 2 & 30.71 &  1 & 2 & 1 & 2 & 25 & 1480 & 1480 & 2\\\\\n\t 108 & 1 & 32.00 &  1 & 1 & 1 & 1 & 23 & 1200 & 1915 & 2\\\\\n\t 109 & 2 & 28.14 &  1 & 2 & 1 & 1 & 18 &  900 &  900 & 1\\\\\n\t 110 & 2 & 30.28 &  1 & 2 & 2 & 1 & 41 &  950 & 1200 & 2\\\\\n\t 111 & 1 & 28.00 & 28 & 1 & 2 & 1 & 17 & 1000 & 1300 & 1\\\\\n\t 112 & 2 & 32.43 &  1 & 2 & 2 & 2 & 32 & 1850 & 1900 & 3\\\\\n\t 113 & 2 & 32.43 &  1 & 2 & 2 & 2 & 32 & 1850 & 1900 & 3\\\\\n\t 114 & 2 & 32.43 &  1 & 2 & 2 & 2 & 32 & 1850 & 1900 & 3\\\\\n\t 115 & 2 & 31.85 & 21 & 2 & 2 & 1 & 24 & 1170 & 1580 & 2\\\\\n\t 116 & 1 & 27.00 &  1 & 2 & 1 & 1 & 14 &  980 & 1500 & 1\\\\\n\t 117 & 2 & 31.71 &  5 & 2 & 2 & 2 & 39 & 1755 & 1850 & 3\\\\\n\t 118 & 2 & 30.71 &  1 & 2 & 1 & 1 & 16 & 1455 & 1650 & 2\\\\\n\t 119 & 1 & 27.00 &  1 & 2 & 1 & 1 & 14 &  980 & 1500 & 1\\\\\n\t 120 & 2 & 28.85 &  1 & 2 & 2 & 2 & 22 &  890 & 2000 & 1\\\\\n\t 121 & 1 & 35.00 & 44 & 2 & 1 & 2 & 37 & 1940 & 1935 & 2\\\\\n\\end{tabular}\n",
            "text/plain": [
              "    id  grupo semanasevolucao diassintomas tipodeparto corpele sexobebe idade\n",
              "1    1  2     32.85            6           2           1       2        35   \n",
              "2    2  1     36.00            4           1           1       2        43   \n",
              "3    3  1     29.00            1           1           1       2        15   \n",
              "4    4  1     27.00            1           2           1       1        14   \n",
              "5    5  1     25.00            1           1           1       1        34   \n",
              "6    6  2     32.85            1           2           1       1        23   \n",
              "7    7  2     31.85           67           1           1       2        27   \n",
              "8    8  2     30.28            7           2           1       2        25   \n",
              "9    9  2     32.43            4           1           1       2        39   \n",
              "10  10  2     32.71            1           1           1       1        21   \n",
              "11  11  2     32.85            1           2           1       1        20   \n",
              "12  12  2     30.71            1           2           1       1        16   \n",
              "13  13  2     27.57            1           2           1       1        14   \n",
              "14  14  2     32.71            1           2           1       2        34   \n",
              "15  15  2     27.14            1           2           1       1        27   \n",
              "16  16  2     27.57            1           2           1       1        14   \n",
              "17  17  2     31.28           31           2           2       1        23   \n",
              "18  18  1     27.00            1           2           1       2        33   \n",
              "19  19  2     30.28            7           2           1       2        25   \n",
              "20  20  2     31.28            1           2           1       1        18   \n",
              "21  21  2     34.00           12           1           1       1        34   \n",
              "22  22  1     23.00            1           1           2       2        24   \n",
              "23  23  1     23.00            1           1           2       2        24   \n",
              "24  24  1     32.00            3           1           1       1        35   \n",
              "25  25  2     30.71            1           2           1       1        16   \n",
              "26  26  2     30.28            1           2           2       1        41   \n",
              "27  27  2     30.71            1           2           1       2        25   \n",
              "28  28  1     34.00            1           2           2       2        26   \n",
              "29  29  2     32.71            1           2           1       2        34   \n",
              "30  30  2     27.57            1           2           1       1        14   \n",
              "⋮   ⋮   ⋮     ⋮               ⋮            ⋮           ⋮       ⋮        ⋮    \n",
              "92   92 2     32.43            1           2           2       2        32   \n",
              "93   93 2     32.43            1           2           2       2        32   \n",
              "94   94 2     32.43            1           2           2       2        32   \n",
              "95   95 2     31.85           21           2           2       1        24   \n",
              "96   96 1     27.00            1           2           1       1        14   \n",
              "97   97 2     31.71            5           2           2       2        39   \n",
              "98   98 2     30.71            1           2           1       1        16   \n",
              "99   99 1     27.00            1           2           1       1        14   \n",
              "100 100 2     28.85            1           2           2       2        22   \n",
              "101 101 1     35.00           44           2           1       2        37   \n",
              "102 102 1     32.00            3           1           1       1        35   \n",
              "103 103 1     31.00           72           2           2       2        33   \n",
              "104 104 1     35.00           44           2           1       2        37   \n",
              "105 105 1     32.00            1           1           1       1        23   \n",
              "106 106 1     34.00            1           1           1       2        23   \n",
              "107 107 2     30.71            1           2           1       2        25   \n",
              "108 108 1     32.00            1           1           1       1        23   \n",
              "109 109 2     28.14            1           2           1       1        18   \n",
              "110 110 2     30.28            1           2           2       1        41   \n",
              "111 111 1     28.00           28           1           2       1        17   \n",
              "112 112 2     32.43            1           2           2       2        32   \n",
              "113 113 2     32.43            1           2           2       2        32   \n",
              "114 114 2     32.43            1           2           2       2        32   \n",
              "115 115 2     31.85           21           2           2       1        24   \n",
              "116 116 1     27.00            1           2           1       1        14   \n",
              "117 117 2     31.71            5           2           2       2        39   \n",
              "118 118 2     30.71            1           2           1       1        16   \n",
              "119 119 1     27.00            1           2           1       1        14   \n",
              "120 120 2     28.85            1           2           2       2        22   \n",
              "121 121 1     35.00           44           2           1       2        37   \n",
              "    pesobebeint pesobebealta fumo\n",
              "1   1500        1900         1   \n",
              "2   2010        2500         2   \n",
              "3   1030        1050         1   \n",
              "4    980        1500         1   \n",
              "5    520        1000         1   \n",
              "6   1980        1980         2   \n",
              "7   2000        2300         1   \n",
              "8    865        2000         2   \n",
              "9   2240        2200         1   \n",
              "10  2340        2500         2   \n",
              "11  2045        2045         1   \n",
              "12  1455        1650         2   \n",
              "13   650        1900         1   \n",
              "14  1520        1650         2   \n",
              "15  1055        2000         2   \n",
              "16   650        1900         1   \n",
              "17  1640        1650         3   \n",
              "18   876        1000         1   \n",
              "19   865        2000         2   \n",
              "20  1100        1100         1   \n",
              "21  1750        1800         3   \n",
              "22   410        1200         2   \n",
              "23   410        1200         2   \n",
              "24  1950        2600         1   \n",
              "25  1455        1650         2   \n",
              "26   950        1200         2   \n",
              "27  1480        1480         2   \n",
              "28  1700        1650         3   \n",
              "29  1520        1650         2   \n",
              "30   650        1900         1   \n",
              "⋮   ⋮           ⋮            ⋮   \n",
              "92  1850        1900         3   \n",
              "93  1850        1900         3   \n",
              "94  1850        1900         3   \n",
              "95  1170        1580         2   \n",
              "96   980        1500         1   \n",
              "97  1755        1850         3   \n",
              "98  1455        1650         2   \n",
              "99   980        1500         1   \n",
              "100  890        2000         1   \n",
              "101 1940        1935         2   \n",
              "102 1950        2600         1   \n",
              "103 1370        1372         2   \n",
              "104 1940        1935         2   \n",
              "105 1200        1915         2   \n",
              "106 1750        1850         3   \n",
              "107 1480        1480         2   \n",
              "108 1200        1915         2   \n",
              "109  900         900         1   \n",
              "110  950        1200         2   \n",
              "111 1000        1300         1   \n",
              "112 1850        1900         3   \n",
              "113 1850        1900         3   \n",
              "114 1850        1900         3   \n",
              "115 1170        1580         2   \n",
              "116  980        1500         1   \n",
              "117 1755        1850         3   \n",
              "118 1455        1650         2   \n",
              "119  980        1500         1   \n",
              "120  890        2000         1   \n",
              "121 1940        1935         2   "
            ]
          },
          "metadata": {}
        }
      ],
      "source": [
        "install.packages(\"ggplot2\")\n",
        "library(ggplot2)\n",
        "install.packages(\"gmodels\")\n",
        "library(gmodels)\n",
        "\n",
        "bd <- read.csv2(\"BD_trab1.csv\", header = TRUE)\n",
        "bd"
      ]
    },
    {
      "cell_type": "code",
      "source": [
        "pesoint <- bd$pesobebeint\n",
        "maiorPeso <- max(pesoint)\n",
        "menorPeso <- min(pesoint)\n",
        "msg <- paste(\"Maior peso internação:\", as.character(maiorPeso))\n",
        "msg2 <- paste(\"\\nMaior peso internação:\", as.character(menorPeso))\n",
        "\n",
        "cat(msg)\n",
        "cat(msg2)\n"
      ],
      "metadata": {
        "colab": {
          "base_uri": "https://localhost:8080/"
        },
        "id": "r8CmSx9qTxdW",
        "outputId": "420e1a8c-cbf3-4d48-cb5e-7b1cd21413b9"
      },
      "execution_count": 61,
      "outputs": [
        {
          "output_type": "stream",
          "name": "stdout",
          "text": [
            "Maior peso internação: 2340\n",
            "Maior peso internação: 410"
          ]
        }
      ]
    },
    {
      "cell_type": "markdown",
      "metadata": {
        "id": "_ItpuTOx8aHc"
      },
      "source": [
        "# Questão 1)\n",
        "- Análise descritiva dos dados (escolha 3 variáveis), estruture uma tabela utilizando como modelo tabela disponível em um artigo na área da saúde (qualquer assunto) e interprete os resultados descritivos de todas as variáveis incluídas na tabela."
      ]
    },
    {
      "cell_type": "markdown",
      "metadata": {
        "id": "zFDgg-JHLnEG"
      },
      "source": [
        "- Grupo, Status Tabágico e Tipo de Parto\n",
        "\n"
      ]
    },
    {
      "cell_type": "code",
      "execution_count": 39,
      "metadata": {
        "id": "_diPH19c85jg"
      },
      "outputs": [],
      "source": [
        "# Mapeando a variável Grupo em 1 = Infecção por Pseudomona aeruginosa e 2 = Infecção por outros germes\n",
        "Grupo <- bd$grupo\n",
        "Grupo <- factor(bd$grupo, levels = c(1, 2), labels = c(\"Infecção por Pseudomona aeruginosa\", \"Infecção por outros germes\"))\n",
        "\n",
        "# Mapeando a variável Tipo de Parto em 1 = Vaginal e 2 = Cesariano\n",
        "Tipo_de_Parto <- bd$tipodeparto\n",
        "Tipo_de_Parto <- factor(bd$tipodeparto, levels = c(1, 2), labels = c(\"Vaginal\", \"Cesariano\"))\n",
        "\n",
        "# Mapeando a variável Status Tabágico da Mãe em 1 = Fumante, 2 = Não fumante e 3 = Ex-fumante\n",
        "Status_Fumo <- bd$fumo\n",
        "Status_Fumo <- factor(bd$fumo, levels = c(1, 2, 3), labels = c(\"Fumante\", \"Não fumante\", \"Ex-fumante\")) #Mapeia os tipos de fumo para os labels respectivos\n",
        "\n",
        "# Contagem dos casos para a variável Grupo\n",
        "contagem_grupo <- table(Grupo)\n",
        "# Cálculo da porcentagem\n",
        "porcentagem_grupo <- prop.table(contagem_grupo) * 100\n",
        "# Criação da tabela\n",
        "tabela_grupo <- data.frame(Variável = names(contagem_grupo), n = as.vector(contagem_grupo), Porcentagem = as.vector(porcentagem_grupo))\n",
        "\n",
        "# Contagem dos casos para a variável Tipo de Parto\n",
        "contagem_parto <- table(Tipo_de_Parto)\n",
        "# Cálculo da porcentagem\n",
        "porcentagem_parto <- prop.table(contagem_parto) * 100\n",
        "# Criação da tabela\n",
        "tabela_parto <- data.frame(Variável = names(contagem_parto), n = as.vector(contagem_parto), Porcentagem = as.vector(porcentagem_parto))\n",
        "\n",
        "# Contagem dos casos para a variável Status Fumo\n",
        "contagem_fumo <- table(Status_Fumo)\n",
        "# Cálculo da porcentagem\n",
        "porcentagem_fumo <- prop.table(contagem_fumo) * 100\n",
        "# Criação da tabela\n",
        "tabela_fumo <- data.frame(Variável = names(contagem_fumo), n = as.vector(contagem_fumo), Porcentagem = as.vector(porcentagem_fumo))"
      ]
    },
    {
      "cell_type": "markdown",
      "source": [
        "# Tabela Grupo"
      ],
      "metadata": {
        "id": "92MZayr7PaYf"
      }
    },
    {
      "cell_type": "code",
      "source": [
        "tabela_grupo"
      ],
      "metadata": {
        "colab": {
          "base_uri": "https://localhost:8080/",
          "height": 161
        },
        "id": "XFaHn7u9PeIj",
        "outputId": "a8113e50-5186-4ba6-830d-a4d057b4dc16"
      },
      "execution_count": 40,
      "outputs": [
        {
          "output_type": "display_data",
          "data": {
            "text/html": [
              "<table class=\"dataframe\">\n",
              "<caption>A data.frame: 2 × 3</caption>\n",
              "<thead>\n",
              "\t<tr><th scope=col>Variável</th><th scope=col>n</th><th scope=col>Porcentagem</th></tr>\n",
              "\t<tr><th scope=col>&lt;chr&gt;</th><th scope=col>&lt;int&gt;</th><th scope=col>&lt;dbl&gt;</th></tr>\n",
              "</thead>\n",
              "<tbody>\n",
              "\t<tr><td>Infecção por Pseudomona aeruginosa</td><td>45</td><td>37.19008</td></tr>\n",
              "\t<tr><td>Infecção por outros germes        </td><td>76</td><td>62.80992</td></tr>\n",
              "</tbody>\n",
              "</table>\n"
            ],
            "text/markdown": "\nA data.frame: 2 × 3\n\n| Variável &lt;chr&gt; | n &lt;int&gt; | Porcentagem &lt;dbl&gt; |\n|---|---|---|\n| Infecção por Pseudomona aeruginosa | 45 | 37.19008 |\n| Infecção por outros germes         | 76 | 62.80992 |\n\n",
            "text/latex": "A data.frame: 2 × 3\n\\begin{tabular}{lll}\n Variável & n & Porcentagem\\\\\n <chr> & <int> & <dbl>\\\\\n\\hline\n\t Infecção por Pseudomona aeruginosa & 45 & 37.19008\\\\\n\t Infecção por outros germes         & 76 & 62.80992\\\\\n\\end{tabular}\n",
            "text/plain": [
              "  Variável                           n  Porcentagem\n",
              "1 Infecção por Pseudomona aeruginosa 45 37.19008   \n",
              "2 Infecção por outros germes         76 62.80992   "
            ]
          },
          "metadata": {}
        }
      ]
    },
    {
      "cell_type": "markdown",
      "source": [
        "# Tabela Status Tabágico da Mãe"
      ],
      "metadata": {
        "id": "x-6dlQz5PfV0"
      }
    },
    {
      "cell_type": "code",
      "source": [
        "tabela_fumo"
      ],
      "metadata": {
        "colab": {
          "base_uri": "https://localhost:8080/",
          "height": 192
        },
        "id": "_lVBilf7PnR6",
        "outputId": "3fdd2aa9-7c39-4660-ebda-bae03790578a"
      },
      "execution_count": 41,
      "outputs": [
        {
          "output_type": "display_data",
          "data": {
            "text/html": [
              "<table class=\"dataframe\">\n",
              "<caption>A data.frame: 3 × 3</caption>\n",
              "<thead>\n",
              "\t<tr><th scope=col>Variável</th><th scope=col>n</th><th scope=col>Porcentagem</th></tr>\n",
              "\t<tr><th scope=col>&lt;chr&gt;</th><th scope=col>&lt;int&gt;</th><th scope=col>&lt;dbl&gt;</th></tr>\n",
              "</thead>\n",
              "<tbody>\n",
              "\t<tr><td>Fumante    </td><td>46</td><td>38.01653</td></tr>\n",
              "\t<tr><td>Não fumante</td><td>52</td><td>42.97521</td></tr>\n",
              "\t<tr><td>Ex-fumante </td><td>23</td><td>19.00826</td></tr>\n",
              "</tbody>\n",
              "</table>\n"
            ],
            "text/markdown": "\nA data.frame: 3 × 3\n\n| Variável &lt;chr&gt; | n &lt;int&gt; | Porcentagem &lt;dbl&gt; |\n|---|---|---|\n| Fumante     | 46 | 38.01653 |\n| Não fumante | 52 | 42.97521 |\n| Ex-fumante  | 23 | 19.00826 |\n\n",
            "text/latex": "A data.frame: 3 × 3\n\\begin{tabular}{lll}\n Variável & n & Porcentagem\\\\\n <chr> & <int> & <dbl>\\\\\n\\hline\n\t Fumante     & 46 & 38.01653\\\\\n\t Não fumante & 52 & 42.97521\\\\\n\t Ex-fumante  & 23 & 19.00826\\\\\n\\end{tabular}\n",
            "text/plain": [
              "  Variável    n  Porcentagem\n",
              "1 Fumante     46 38.01653   \n",
              "2 Não fumante 52 42.97521   \n",
              "3 Ex-fumante  23 19.00826   "
            ]
          },
          "metadata": {}
        }
      ]
    },
    {
      "cell_type": "markdown",
      "source": [
        "# Tabela Tipo de Parto"
      ],
      "metadata": {
        "id": "esF2hNPgPjyl"
      }
    },
    {
      "cell_type": "code",
      "source": [
        "tabela_parto"
      ],
      "metadata": {
        "colab": {
          "base_uri": "https://localhost:8080/",
          "height": 161
        },
        "id": "zaLZuD_ZPobc",
        "outputId": "3bb39529-2600-4cdd-a2cf-6a12234cb558"
      },
      "execution_count": 42,
      "outputs": [
        {
          "output_type": "display_data",
          "data": {
            "text/html": [
              "<table class=\"dataframe\">\n",
              "<caption>A data.frame: 2 × 3</caption>\n",
              "<thead>\n",
              "\t<tr><th scope=col>Variável</th><th scope=col>n</th><th scope=col>Porcentagem</th></tr>\n",
              "\t<tr><th scope=col>&lt;chr&gt;</th><th scope=col>&lt;int&gt;</th><th scope=col>&lt;dbl&gt;</th></tr>\n",
              "</thead>\n",
              "<tbody>\n",
              "\t<tr><td>Vaginal  </td><td>32</td><td>26.44628</td></tr>\n",
              "\t<tr><td>Cesariano</td><td>89</td><td>73.55372</td></tr>\n",
              "</tbody>\n",
              "</table>\n"
            ],
            "text/markdown": "\nA data.frame: 2 × 3\n\n| Variável &lt;chr&gt; | n &lt;int&gt; | Porcentagem &lt;dbl&gt; |\n|---|---|---|\n| Vaginal   | 32 | 26.44628 |\n| Cesariano | 89 | 73.55372 |\n\n",
            "text/latex": "A data.frame: 2 × 3\n\\begin{tabular}{lll}\n Variável & n & Porcentagem\\\\\n <chr> & <int> & <dbl>\\\\\n\\hline\n\t Vaginal   & 32 & 26.44628\\\\\n\t Cesariano & 89 & 73.55372\\\\\n\\end{tabular}\n",
            "text/plain": [
              "  Variável  n  Porcentagem\n",
              "1 Vaginal   32 26.44628   \n",
              "2 Cesariano 89 73.55372   "
            ]
          },
          "metadata": {}
        }
      ]
    },
    {
      "cell_type": "markdown",
      "metadata": {
        "id": "i5Exx-REe8-y"
      },
      "source": [
        "# Questão 2)\n",
        "- Escolha 2 variáveis e represente graficamente (1 gráfico para cada variável)"
      ]
    },
    {
      "cell_type": "markdown",
      "metadata": {
        "id": "yyIQtANjqkKf"
      },
      "source": [
        "# Histograma Idade\n",
        "- Plotando utilizando a biblioteca ***ggplot***"
      ]
    },
    {
      "cell_type": "code",
      "execution_count": 43,
      "metadata": {
        "id": "0o33VvCuinNb",
        "colab": {
          "base_uri": "https://localhost:8080/",
          "height": 437
        },
        "outputId": "7263d241-1d16-46e6-b1d4-b813b3c3bb16"
      },
      "outputs": [
        {
          "output_type": "display_data",
          "data": {
            "text/plain": [
              "plot without title"
            ],
            "image/png": "[encoded data removed]"
          },
          "metadata": {
            "image/png": {
              "width": 420,
              "height": 420
            }
          }
        }
      ],
      "source": [
        "idades <- bd$idade\n",
        "# Cria um objeto ggplot com os dados e mapeie a variável \"idades\" para o eixo x\n",
        "p <- ggplot(data = data.frame(idades = idades), aes(x = idades))\n",
        "\n",
        "# Adiciona um geom_histogram para criar o histograma\n",
        "p + geom_histogram(binwidth = 1, fill = \"blue\", color = \"black\", alpha = 0.7) +\n",
        "  labs(title = \"Idade\", x = \"Anos\", y = \"Frequência\") +\n",
        "  scale_x_continuous(breaks = seq(14, 45, by = 1))"
      ]
    },
    {
      "cell_type": "markdown",
      "metadata": {
        "id": "_WHIxu7lq0h-"
      },
      "source": [
        "# Histograma Status Tabágico da Mãe\n",
        "- 1 = Fumante\n",
        "- 2 = Não fumante\n",
        "- 3 = Ex-fumante"
      ]
    },
    {
      "cell_type": "code",
      "execution_count": 44,
      "metadata": {
        "id": "BufDHypArGFt",
        "colab": {
          "base_uri": "https://localhost:8080/",
          "height": 437
        },
        "outputId": "bfe5d46d-e79a-4132-c04d-73a7d1052252"
      },
      "outputs": [
        {
          "output_type": "display_data",
          "data": {
            "text/plain": [
              "plot without title"
            ],
            "image/png": "[encoded data removed]"
          },
          "metadata": {
            "image/png": {
              "width": 420,
              "height": 420
            }
          }
        }
      ],
      "source": [
        "fumo <- bd$fumo\n",
        "\n",
        "# Definindo um vetor de rótulos correspondentes ao números de status no data frame\n",
        "rotulos <- c(\"Fumante\", \"Não fumante\", \"Ex-fumante\")\n",
        "\n",
        "# Cria um objeto ggplot com os dados e mapeie a variável \"fumo\" para o eixo x\n",
        "p <- ggplot(data = data.frame(fumo = fumo), aes(x = fumo))\n",
        "\n",
        "# Adiciona um geom_histogram para criar o histograma\n",
        "p + geom_bar(width = 0.7, fill = \"blue\", color = \"black\", alpha = 0.7) +\n",
        "  labs(title = \"Status Tabágico da Mãe\", x = \"Status\", y = \"Frequência\") +\n",
        "  scale_x_continuous(breaks = 1:3, labels = rotulos)"
      ]
    },
    {
      "cell_type": "markdown",
      "metadata": {
        "id": "ZKqDLPVHeoi1"
      },
      "source": [
        "**Moda de Idade é = 32**"
      ]
    },
    {
      "cell_type": "markdown",
      "metadata": {
        "id": "wj6sf9vGe1EN"
      },
      "source": [
        "**A média de Idade é = 28**"
      ]
    },
    {
      "cell_type": "markdown",
      "metadata": {
        "id": "SjW_6L70e3Ao"
      },
      "source": [
        "**O Desvio Padrão da Idade é de 8,63**"
      ]
    },
    {
      "cell_type": "markdown",
      "metadata": {
        "id": "-7VKnn8YfL6C"
      },
      "source": [
        "# Questão 3)\n",
        "- Com o objetivo de determinar se as variáveis avaliadas no banco (escolha 3 variáveis) estão associadas a variável grupo. Estruture as tabelas necessárias (tabelas cruzadas pela variável Grupo) e interprete os resultados, apenas de forma descritiva, ou seja, não é necessário utilizar teste estatístico.\n",
        "- Criando as tabelas cruzadas com a biblioteca ***gmodels***"
      ]
    },
    {
      "cell_type": "markdown",
      "metadata": {
        "id": "Nf7mbx3SKFIO"
      },
      "source": [
        "# Tabela Cruzada ( Grupo x Status Tabágico da Mãe )"
      ]
    },
    {
      "cell_type": "code",
      "execution_count": 45,
      "metadata": {
        "id": "rekXGmGKC-oJ",
        "colab": {
          "base_uri": "https://localhost:8080/"
        },
        "outputId": "1364cf4d-d596-4b15-f79e-b223a1bfeb8e"
      },
      "outputs": [
        {
          "output_type": "stream",
          "name": "stdout",
          "text": [
            "\n",
            " \n",
            "   Cell Contents\n",
            "|-------------------------|\n",
            "|                       N |\n",
            "|-------------------------|\n",
            "\n",
            " \n",
            "Total Observations in Table:  121 \n",
            "\n",
            " \n",
            "                                   | Status_Fumo \n",
            "                             Grupo |     Fumante | Não fumante |  Ex-fumante |   Row Total | \n",
            "-----------------------------------|-------------|-------------|-------------|-------------|\n",
            "Infecção por Pseudomona aeruginosa |          16 |          23 |           6 |          45 | \n",
            "-----------------------------------|-------------|-------------|-------------|-------------|\n",
            "        Infecção por outros germes |          30 |          29 |          17 |          76 | \n",
            "-----------------------------------|-------------|-------------|-------------|-------------|\n",
            "                      Column Total |          46 |          52 |          23 |         121 | \n",
            "-----------------------------------|-------------|-------------|-------------|-------------|\n",
            "\n",
            " \n"
          ]
        }
      ],
      "source": [
        "library(gmodels)\n",
        "Grupo <- bd$grupo #Adiciona a coluna de grupo a variável\n",
        "Status_Fumo <- bd$fumo #Adiciona  a coluna de fumo a variável\n",
        "#Mapeia os tipos de grupos relativos ao label respectivo\n",
        "Grupo <- factor(bd$grupo, levels = c(1, 2), labels = c(\"Infecção por Pseudomona aeruginosa\", \"Infecção por outros germes\"))\n",
        "#Mapeia os tipos de fumo para os labels respectivos\n",
        "Status_Fumo <- factor(bd$fumo, levels = c(1, 2, 3), labels = c(\"Fumante\", \"Não fumante\", \"Ex-fumante\"))\n",
        "# Utilizando as variáveis mapeadas cria a tabela cruzada\n",
        "Tabela_Cruzada= CrossTable(Grupo, Status_Fumo,\n",
        "  prop.chisq = FALSE,\n",
        "  prop.r = FALSE,\n",
        "  prop.c = FALSE,\n",
        "  prop.t = FALSE)"
      ]
    },
    {
      "cell_type": "markdown",
      "metadata": {
        "id": "gLam3CrMLb2b"
      },
      "source": [
        "# Tabela Cruzada (Grupo x Peso do Bebê na Internação)\n"
      ]
    },
    {
      "cell_type": "code",
      "execution_count": 91,
      "metadata": {
        "id": "i7_jKhFRLkbr",
        "colab": {
          "base_uri": "https://localhost:8080/"
        },
        "outputId": "f0c1b377-0add-434a-964a-bae118b72ac1"
      },
      "outputs": [
        {
          "output_type": "stream",
          "name": "stdout",
          "text": [
            "\n",
            " \n",
            "   Cell Contents\n",
            "|-------------------------|\n",
            "|                       N |\n",
            "|-------------------------|\n",
            "\n",
            " \n",
            "Total Observations in Table:  121 \n",
            "\n",
            " \n",
            "                                   | Peso_Bebe_Internação \n",
            "                             Grupo |   400-599g |   600-799g |   800-999g | 1000-1199g | 1200-1399g | 1400-1599g | 1600-1799g | 1800-1999g | 2000-2199g | 2200-2400g |  Row Total | \n",
            "-----------------------------------|------------|------------|------------|------------|------------|------------|------------|------------|------------|------------|------------|\n",
            "Infecção por Pseudomona aeruginosa |          6 |          0 |         10 |          5 |          6 |          0 |          5 |         10 |          3 |          0 |         45 | \n",
            "-----------------------------------|------------|------------|------------|------------|------------|------------|------------|------------|------------|------------|------------|\n",
            "        Infecção por outros germes |          0 |          5 |         15 |          5 |          0 |         19 |          7 |         13 |          6 |          6 |         76 | \n",
            "-----------------------------------|------------|------------|------------|------------|------------|------------|------------|------------|------------|------------|------------|\n",
            "                      Column Total |          6 |          5 |         25 |         10 |          6 |         19 |         12 |         23 |          9 |          6 |        121 | \n",
            "-----------------------------------|------------|------------|------------|------------|------------|------------|------------|------------|------------|------------|------------|\n",
            "\n",
            " \n"
          ]
        }
      ],
      "source": [
        "library(gmodels)\n",
        "\n",
        "# Supondo que o menor peso seja 400g e o maior seja 2400g, porém incluindo 410 e 2340 que são os extremos reais\n",
        "bins <- seq(400, 2400, by = 200)\n",
        "\n",
        "# Criar rótulos para os intervalos\n",
        "labels <- c(\"400-599g\", \"600-799g\", \"800-999g\", \"1000-1199g\", \"1200-1399g\", \"1400-1599g\", \"1600-1799g\", \"1800-1999g\", \"2000-2199g\", \"2200-2400g\")\n",
        "\n",
        "# Aplicar o corte com os intervalos e rótulos\n",
        "Peso_Bebe_Internação <- cut(bd$pesobebeint, breaks = bins, labels = labels, include.lowest = TRUE, right = TRUE)\n",
        "\n",
        "# Criar um fator para a variável de grupo\n",
        "Grupo <- factor(bd$grupo, levels = c(1, 2), labels = c(\"Infecção por Pseudomona aeruginosa\", \"Infecção por outros germes\"))\n",
        "\n",
        "# Cria a tabela cruzada usando a variável de peso com os intervalos estabelecidos\n",
        "Tabela_Cruzada = CrossTable(Grupo, Peso_Bebe_Internação,\n",
        "  prop.chisq = FALSE,\n",
        "  prop.r = FALSE,\n",
        "  prop.c = FALSE,\n",
        "  prop.t = FALSE)\n"
      ]
    },
    {
      "cell_type": "markdown",
      "metadata": {
        "id": "T8hXZ0vhP8rT"
      },
      "source": [
        "# Tabela Cruzada (Grupo x Tipo de Parto)"
      ]
    },
    {
      "cell_type": "code",
      "execution_count": 47,
      "metadata": {
        "id": "JfSecKPaP-2C",
        "colab": {
          "base_uri": "https://localhost:8080/"
        },
        "outputId": "526e3800-d0f4-4962-a841-fca59f30da54"
      },
      "outputs": [
        {
          "output_type": "stream",
          "name": "stdout",
          "text": [
            "\n",
            " \n",
            "   Cell Contents\n",
            "|-------------------------|\n",
            "|                       N |\n",
            "|-------------------------|\n",
            "\n",
            " \n",
            "Total Observations in Table:  121 \n",
            "\n",
            " \n",
            "                                   | Tipo_de_Parto \n",
            "                             Grupo |   Vaginal | Cesariano | Row Total | \n",
            "-----------------------------------|-----------|-----------|-----------|\n",
            "Infecção por Pseudomona aeruginosa |        22 |        23 |        45 | \n",
            "-----------------------------------|-----------|-----------|-----------|\n",
            "        Infecção por outros germes |        10 |        66 |        76 | \n",
            "-----------------------------------|-----------|-----------|-----------|\n",
            "                      Column Total |        32 |        89 |       121 | \n",
            "-----------------------------------|-----------|-----------|-----------|\n",
            "\n",
            " \n"
          ]
        }
      ],
      "source": [
        "library(gmodels)\n",
        "Grupo <- bd$grupo\n",
        "Tipo_de_Parto <- bd$tipodeparto\n",
        "Grupo <- factor(bd$grupo, levels = c(1, 2), labels = c(\"Infecção por Pseudomona aeruginosa\", \"Infecção por outros germes\"))\n",
        "Tipo_de_Parto <- factor(bd$tipodeparto, levels = c(1, 2), labels = c(\"Vaginal\", \"Cesariano\"))\n",
        "\n",
        "# Utilizando as variáveis mapeadas cria a tabela cruzada\n",
        "Tabela_Cruzada= CrossTable(Grupo, Tipo_de_Parto,\n",
        "  prop.chisq = FALSE,\n",
        "  prop.r = FALSE,\n",
        "  prop.c = FALSE,\n",
        "  prop.t = FALSE)"
      ]
    }
  ],
  "metadata": {
    "colab": {
      "provenance": [],
      "include_colab_link": true
    },
    "kernelspec": {
      "display_name": "R",
      "name": "ir"
    },
    "language_info": {
      "name": "R"
    }
  },
  "nbformat": 4,
  "nbformat_minor": 0
}